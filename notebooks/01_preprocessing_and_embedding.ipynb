{
 "cells": [
  {
   "cell_type": "code",
   "execution_count": 9,
   "id": "b1b0b5df",
   "metadata": {},
   "outputs": [
    {
     "name": "stderr",
     "output_type": "stream",
     "text": [
      "[nltk_data] Downloading package punkt to /Users/anniii/nltk_data...\n",
      "[nltk_data]   Package punkt is already up-to-date!\n"
     ]
    },
    {
     "data": {
      "text/plain": [
       "True"
      ]
     },
     "execution_count": 9,
     "metadata": {},
     "output_type": "execute_result"
    }
   ],
   "source": [
    "# Cell 1: Imports and setup\n",
    "import os\n",
    "import re\n",
    "import nltk\n",
    "from tqdm import tqdm\n",
    "from sentence_transformers import SentenceTransformer\n",
    "import numpy as np\n",
    "import faiss\n",
    "import matplotlib.pyplot as plt\n",
    "import fitz \n",
    "nltk.download('punkt')"
   ]
  },
  {
   "cell_type": "code",
   "execution_count": 16,
   "id": "1ab737cd",
   "metadata": {},
   "outputs": [
    {
     "name": "stdout",
     "output_type": "stream",
     "text": [
      "PDF content saved to /Users/anniii/Desktop/assignment_woundrsight/data/output.txt\n"
     ]
    }
   ],
   "source": [
    "pdf_path = \"/Users/anniii/Desktop/assignment_woundrsight/data/9241544228_eng.pdf\"\n",
    "output_folder = \"/Users/anniii/Desktop/assignment_woundrsight/data\"  \n",
    "output_txt = os.path.join(output_folder, \"output.txt\")\n",
    "\n",
    "doc = fitz.open(pdf_path)\n",
    "text = \"\"\n",
    "\n",
    "for page in doc:\n",
    "    text += page.get_text()\n",
    "\n",
    "with open(output_txt, \"w\", encoding=\"utf-8\") as f:\n",
    "    f.write(text)\n",
    "\n",
    "print(f\"PDF content saved to {output_txt}\")"
   ]
  },
  {
   "cell_type": "code",
   "execution_count": 17,
   "id": "5cd5a31a",
   "metadata": {},
   "outputs": [
    {
     "name": "stdout",
     "output_type": "stream",
     "text": [
      "First 500 chars of raw text:\n",
      "ThelCD-10\n",
      "Classification\n",
      "of Mental and\n",
      "Behavioural\n",
      "Disorders\n",
      "Clinical\n",
      "descriptions\n",
      "and diagnostic\n",
      "guidelines\n",
      "| \n",
      "World Health Organization\n",
      "I \n",
      "Geneva\n",
      "I \n",
      "1992\n",
      "ICD-10\n",
      "Reprinted 1993, 1994, 1995, 1998, 2000, 2002, 2004\n",
      "WHO Library Cataloguing in Publication Data\n",
      "The ICD-10 classification of mental and behavioural\n",
      "disorders : clinical descriptions and diagnostic guidelines.\n",
      "1.Mental disorders — classification \n",
      "2.Mental disorders — diagnosis\n",
      "ISBN 92 4 154422 8 \n",
      "(NLM Classification: WM 15)\n",
      "© World Healt\n"
     ]
    }
   ],
   "source": [
    "# Cell 2: Load your provided document\n",
    "data_path = \"../data/output.txt\"\n",
    "assert os.path.exists(data_path), \"Your document file does not exist.\"\n",
    "\n",
    "with open(data_path, 'r', encoding='utf-8') as f:\n",
    "    raw_text = f.read()\n",
    "\n",
    "print(\"First 500 chars of raw text:\")\n",
    "print(raw_text[:500])"
   ]
  },
  {
   "cell_type": "code",
   "execution_count": 18,
   "id": "6b857bbd",
   "metadata": {},
   "outputs": [
    {
     "name": "stdout",
     "output_type": "stream",
     "text": [
      "First 500 chars of cleaned text:\n",
      "ThelCD-10 Classification of Mental and Behavioural Disorders Clinical descriptions and diagnostic guidelines | World Health Organization I Geneva I 1992 ICD-10 Reprinted 1993, 1994, 1995, 1998, 2000, 2002, 2004 WHO Library Cataloguing in Publication Data The ICD-10 classification of mental and behavioural disorders : clinical descriptions and diagnostic guidelines. 1.Mental disorders — classification 2.Mental disorders — diagnosis ISBN 92 4 154422 8 (NLM Classification: WM 15) © World Health Org\n"
     ]
    }
   ],
   "source": [
    "# Cell 3: Clean and normalize text\n",
    "def clean_text(text):\n",
    "    text = re.sub(r'\\n+', '\\n', text)\n",
    "    text = re.sub(r'\\s+', ' ', text)\n",
    "    text = re.sub(r'<.*?>', '', text)\n",
    "    text = re.sub(r'\\f', '', text)\n",
    "    text = re.sub(r'Page \\\\d+', '', text)\n",
    "    return text.strip()\n",
    "\n",
    "cleaned_text = clean_text(raw_text)\n",
    "print(\"First 500 chars of cleaned text:\")\n",
    "print(cleaned_text[:500])"
   ]
  },
  {
   "cell_type": "code",
   "execution_count": 19,
   "id": "2bf2cc40",
   "metadata": {},
   "outputs": [
    {
     "name": "stdout",
     "output_type": "stream",
     "text": [
      "Total chunks: 504\n",
      "Chunk 0 (249 words):\n",
      "ThelCD-10 Classification of Mental and Behavioural Disorders Clinical descriptions and diagnostic guidelines | World Health Organization I Geneva I 1992 ICD-10 Reprinted 1993, 1994, 1995, 1998, 2000, ...\n",
      "\n",
      "Chunk 1 (227 words):\n",
      "maps represent approximate border lines for which there may not yet be full agreement. The mention of specific companies or of certain manufacturers' products does not imply that they are endorsed or ...\n",
      "\n"
     ]
    }
   ],
   "source": [
    "# Cell 4: Chunk text with overlap\n",
    "def chunk_text(text, chunk_size=250, overlap=50):\n",
    "    sentences = nltk.sent_tokenize(text)\n",
    "    chunks = []\n",
    "    current_chunk = []\n",
    "    current_length = 0\n",
    "\n",
    "    for sentence in sentences:\n",
    "        sentence_length = len(sentence.split())\n",
    "        if current_length + sentence_length > chunk_size:\n",
    "            chunks.append(' '.join(current_chunk))\n",
    "            \n",
    "            overlap_words = ' '.join(current_chunk).split()[-overlap:]\n",
    "            current_chunk = [' '.join(overlap_words), sentence]\n",
    "            current_length = len(' '.join(current_chunk).split())\n",
    "        else:\n",
    "            current_chunk.append(sentence)\n",
    "            current_length += sentence_length\n",
    "\n",
    "    if current_chunk:\n",
    "        chunks.append(' '.join(current_chunk))\n",
    "    return chunks\n",
    "\n",
    "chunks = chunk_text(cleaned_text, chunk_size=250, overlap=50)\n",
    "print(f\"Total chunks: {len(chunks)}\")\n",
    "for i, ck in enumerate(chunks[:2]):\n",
    "    print(f\"Chunk {i} ({len(ck.split())} words):\\n{ck[:200]}...\\n\")\n"
   ]
  },
  {
   "cell_type": "code",
   "execution_count": 20,
   "id": "bec3e795",
   "metadata": {},
   "outputs": [
    {
     "data": {
      "image/png": "[encoded data removed]",
      "text/plain": [
       "<Figure size 640x480 with 1 Axes>"
      ]
     },
     "metadata": {},
     "output_type": "display_data"
    }
   ],
   "source": [
    "# Cell 5: Visualize chunk lengths\n",
    "\n",
    "chunk_lengths = [len(ck.split()) for ck in chunks]\n",
    "plt.hist(chunk_lengths, bins=20)\n",
    "plt.xlabel(\"Chunk length (words)\")\n",
    "plt.ylabel(\"Frequency\")\n",
    "plt.title(\"Distribution of chunk sizes\")\n",
    "plt.show()"
   ]
  },
  {
   "cell_type": "code",
   "execution_count": 21,
   "id": "8f09a042",
   "metadata": {},
   "outputs": [
    {
     "name": "stderr",
     "output_type": "stream",
     "text": [
      "Batches: 100%|██████████| 16/16 [00:03<00:00,  4.70it/s]"
     ]
    },
    {
     "name": "stdout",
     "output_type": "stream",
     "text": [
      "Embeddings shape: (504, 384)\n"
     ]
    },
    {
     "name": "stderr",
     "output_type": "stream",
     "text": [
      "\n"
     ]
    }
   ],
   "source": [
    "# Cell 6: Generate embeddings using our chosen model\n",
    "model = SentenceTransformer('all-MiniLM-L6-v2')\n",
    "embeddings = model.encode(chunks, show_progress_bar=True, batch_size=32, normalize_embeddings=True)\n",
    "print(\"Embeddings shape:\", embeddings.shape)"
   ]
  },
  {
   "cell_type": "code",
   "execution_count": 22,
   "id": "f815da6e",
   "metadata": {},
   "outputs": [
    {
     "name": "stdout",
     "output_type": "stream",
     "text": [
      "Saved 504 chunks and FAISS index to ../vectordb.\n"
     ]
    }
   ],
   "source": [
    "# Cell 7: Save chunks, and build/save FAISS vector DB for our pipeline\n",
    "\n",
    "chunks_dir = \"../chunks\"\n",
    "vectordb_dir = \"../vectordb\"\n",
    "if not os.path.exists(chunks_dir):\n",
    "    os.makedirs(chunks_dir)\n",
    "if not os.path.exists(vectordb_dir):\n",
    "    os.makedirs(vectordb_dir)\n",
    "\n",
    "# Save chunks as metadata\n",
    "np.save(os.path.join(vectordb_dir, \"chunk_metadata.npy\"), np.array(chunks))\n",
    "# Build and save FAISS index\n",
    "dim = embeddings.shape[1]\n",
    "index = faiss.IndexFlatIP(dim)\n",
    "index.add(embeddings)\n",
    "faiss.write_index(index, os.path.join(vectordb_dir, \"faiss.index\"))\n",
    "\n",
    "print(f\"Saved {len(chunks)} chunks and FAISS index to {vectordb_dir}.\")"
   ]
  },
  {
   "cell_type": "code",
   "execution_count": null,
   "id": "3ef3e299",
   "metadata": {},
   "outputs": [],
   "source": []
  }
 ],
 "metadata": {
  "kernelspec": {
   "display_name": ".venv",
   "language": "python",
   "name": "python3"
  },
  "language_info": {
   "codemirror_mode": {
    "name": "ipython",
    "version": 3
   },
   "file_extension": ".py",
   "mimetype": "text/x-python",
   "name": "python",
   "nbconvert_exporter": "python",
   "pygments_lexer": "ipython3",
   "version": "3.12.2"
  }
 },
 "nbformat": 4,
 "nbformat_minor": 5
}
